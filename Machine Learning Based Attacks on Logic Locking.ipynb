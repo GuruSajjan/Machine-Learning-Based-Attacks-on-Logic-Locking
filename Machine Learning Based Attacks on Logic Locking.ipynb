{
 "cells": [
  {
   "cell_type": "code",
   "execution_count": 355,
   "metadata": {
    "id": "rSHQBfdF5ABM"
   },
   "outputs": [],
   "source": [
    "import numpy as np"
   ]
  },
  {
   "cell_type": "code",
   "execution_count": 356,
   "metadata": {
    "id": "QKAZP7wtugCI"
   },
   "outputs": [],
   "source": [
    "def ByteSub_ShiftRow(nb,n,key1,key2,key3,key4,key5,key6,key7):\n",
    "    statemt = [ 50,67,246,168,136,90,48,141,49,49,152,162,224,55,7,52,50,67,246,168,136,90,48,141,49,49,152,162,224,55,7,52 ]\n",
    "    \n",
    "    Sbox = [[0x63, 0x7c, 0x77, 0x7b, 0xf2, 0x6b, 0x6f, 0xc5, 0x30, 0x01, 0x67, 0x2b,0xfe, 0xd7, 0xab, 0x76],\n",
    "        [0xca, 0x82, 0xc9, 0x7d, 0xfa, 0x59, 0x47, 0xf0, 0xad, 0xd4, 0xa2, 0xaf,0x9c, 0xa4, 0x72, 0xc0],\n",
    "        [0xb7, 0xfd, 0x93, 0x26, 0x36, 0x3f, 0xf7, 0xcc, 0x34, 0xa5, 0xe5, 0xf1,0x71, 0xd8, 0x31, 0x15],\n",
    "        [0x04, 0xc7, 0x23, 0xc3, 0x18, 0x96, 0x05, 0x9a, 0x07, 0x12, 0x80, 0xe2,0xeb, 0x27, 0xb2, 0x75],\n",
    "        [0x09, 0x83, 0x2c, 0x1a, 0x1b, 0x6e, 0x5a, 0xa0, 0x52, 0x3b, 0xd6, 0xb3,0x29, 0xe3, 0x2f, 0x84],\n",
    "        [0x53, 0xd1, 0x00, 0xed, 0x20, 0xfc, 0xb1, 0x5b, 0x6a, 0xcb, 0xbe, 0x39,0x4a, 0x4c, 0x58, 0xcf],\n",
    "        [0xd0, 0xef, 0xaa, 0xfb, 0x43, 0x4d, 0x33, 0x85, 0x45, 0xf9, 0x02, 0x7f,0x50, 0x3c, 0x9f, 0xa8],\n",
    "        [0x51, 0xa3, 0x40, 0x8f, 0x92, 0x9d, 0x38, 0xf5, 0xbc, 0xb6, 0xda, 0x21,0x10, 0xff, 0xf3, 0xd2],\n",
    "        [0xcd, 0x0c, 0x13, 0xec, 0x5f, 0x97, 0x44, 0x17, 0xc4, 0xa7, 0x7e, 0x3d,0x64, 0x5d, 0x19, 0x73],\n",
    "        [0x60, 0x81, 0x4f, 0xdc, 0x22, 0x2a, 0x90, 0x88, 0x46, 0xee, 0xb8, 0x14,0xde, 0x5e, 0x0b, 0xdb],\n",
    "        [0xe0, 0x32, 0x3a, 0x0a, 0x49, 0x06, 0x24, 0x5c, 0xc2, 0xd3, 0xac, 0x62,0x91, 0x95, 0xe4, 0x79],\n",
    "        [0xe7, 0xc8, 0x37, 0x6d, 0x8d, 0xd5, 0x4e, 0xa9, 0x6c, 0x56, 0xf4, 0xea,0x65, 0x7a, 0xae, 0x08],\n",
    "        [0xba, 0x78, 0x25, 0x2e, 0x1c, 0xa6, 0xb4, 0xc6, 0xe8, 0xdd, 0x74, 0x1f,0x4b, 0xbd, 0x8b, 0x8a],\n",
    "        [0x70, 0x3e, 0xb5, 0x66, 0x48, 0x03, 0xf6, 0x0e, 0x61, 0x35, 0x57, 0xb9,0x86, 0xc1, 0x1d, 0x9e],\n",
    "        [0xe1, 0xf8, 0x98, 0x11, 0x69, 0xd9, 0x8e, 0x94, 0x9b, 0x1e, 0x87, 0xe9,0xce, 0x55, 0x28, 0xdf],\n",
    "        [0x8c, 0xa1, 0x89, 0x0d, 0xbf, 0xe6, 0x42, 0x68, 0x41, 0x99, 0x2d, 0x0f,0xb0, 0x54, 0xbb, 0x16]]\n",
    "    temp = 0\n",
    "    if(nb==4):\n",
    "        temp =  Sbox[statemt[8] >> 4][statemt[8] & 0xf] if key5 else Sbox[statemt[1] >> 4][statemt[1] & 0xf]\n",
    "        #print(temp)\n",
    "        statemt[1] = Sbox[statemt[5] >> 4][statemt[5] & 0xf]\n",
    "        statemt[5] = Sbox[statemt[key1] >> 4][statemt[key1] & 0xf]\n",
    "        statemt[key1] = Sbox[statemt[13] >> 4][statemt[13] & 0xf]\n",
    "        statemt[13] = temp\n",
    "\n",
    "        temp =   Sbox[statemt[6] >> 4][statemt[6] & 0xf] if key6 else Sbox[statemt[2] >> 4][statemt[2] & 0xf]\n",
    "        #print(temp)\n",
    "        statemt[2] = Sbox[statemt[10] >> 4][statemt[10] & 0xf]\n",
    "        statemt[10] = temp\n",
    "        temp = Sbox[statemt[6] >> 4][statemt[6] & 0xf]\n",
    "        statemt[6] = Sbox[statemt[14] >> 4][statemt[14] & 0xf]\n",
    "        statemt[14] = temp\n",
    "\n",
    "        temp = Sbox[statemt[15] >> 4][statemt[15] & 0xf] if key7 else Sbox[statemt[3] >> 4][statemt[3] & 0xf]\n",
    "        #print(temp)\n",
    "        statemt[3] = Sbox[statemt[key2] >> 4][statemt[key2] & 0xf]\n",
    "        statemt[key2] = Sbox[statemt[11] >> 4][statemt[11] & 0xf]\n",
    "        statemt[11] = Sbox[statemt[key3] >> 4][statemt[key3] & 0xf]\n",
    "        statemt[key3] = temp\n",
    "\n",
    "        statemt[0] = Sbox[statemt[0] >> 4][statemt[0] & 0xf]\n",
    "        statemt[4] = Sbox[statemt[4] >> 4][statemt[4] & 0xf]\n",
    "        statemt[key4] = Sbox[statemt[key4] >> 4][statemt[key4] & 0xf]\n",
    "        statemt[12] = Sbox[statemt[12] >> 4][statemt[12] & 0xf]\n",
    "        \n",
    "        New_lst = [0]*16\n",
    "        for i in range(16):\n",
    "            New_lst[i] = statemt[i]+n\n",
    "    return New_lst"
   ]
  },
  {
   "cell_type": "code",
   "execution_count": 357,
   "metadata": {
    "id": "-s_eGfMR4Kmv"
   },
   "outputs": [],
   "source": [
    "def eval(keys,n):\n",
    "    Cost = []\n",
    "    actual = np.array([35, 190, 70, 24, 196, 199, 197, 194, 199, 154, 66, 93, 225, 26, 4, 58])+n\n",
    "    for key in keys:\n",
    "        out = ByteSub_ShiftRow(4,n,key[0],key[1],key[2],key[3],key[4],key[5],key[6])\n",
    "        out = np.array(out)\n",
    "        Cost.append(-1*sum(np.abs(out-actual)))\n",
    "    return np.array(Cost)"
   ]
  },
  {
   "cell_type": "code",
   "execution_count": 358,
   "metadata": {
    "id": "G8UUAPRtGwMs"
   },
   "outputs": [],
   "source": [
    "def Random_Walk(X,P,pop_size):\n",
    "    children = np.ceil(P*pop_size).astype('int')\n",
    "    addition = np.random.randint(low = 4,high = 10,size = len(children))\n",
    "    children = children + addition\n",
    "    for i in range(len(X)):\n",
    "        for k in range(children[i]):\n",
    "            no_changes = np.random.randint(low = 1,high = 3,size = 1)[0]\n",
    "            child = X[i].copy()\n",
    "            indices = np.random.randint(low = 0,high = 7,size = no_changes)\n",
    "            int_indices =  indices[indices < 4]\n",
    "            bin_indices = indices[indices >= 4]\n",
    "            if len(int_indices):\n",
    "                child[int_indices] = np.random.randint(0,32,len(int_indices))\n",
    "            if len(bin_indices):\n",
    "                child[bin_indices] = np.random.randint(0,2,len(bin_indices))\n",
    "                \n",
    "            if k == 0 and i == 0:\n",
    "                new_X = child\n",
    "            else:\n",
    "                new_X = np.row_stack((new_X,child))\n",
    "    return new_X                "
   ]
  },
  {
   "cell_type": "code",
   "execution_count": 359,
   "metadata": {
    "id": "DoE-ww_HKv4C"
   },
   "outputs": [],
   "source": [
    "def Random_Re_Intialization(pop_size):\n",
    "    for i in range(pop_size):\n",
    "        int_X = np.random.randint(0,32,4)\n",
    "        bin_X = np.random.randint(0,2,3)\n",
    "        X = np.concatenate((int_X,bin_X))\n",
    "        if i == 0:\n",
    "            X_new = X\n",
    "        else:\n",
    "            X_new = np.row_stack((X_new,X))    \n",
    "    return X_new        "
   ]
  },
  {
   "cell_type": "code",
   "execution_count": 360,
   "metadata": {
    "id": "0X5QIy5BMGsd"
   },
   "outputs": [],
   "source": [
    "def Random_Linear_Combination(X):\n",
    "    for i in range(len(X)):\n",
    "        x = X[i].copy()\n",
    "        select = np.random.randint(0,3,1)\n",
    "\n",
    "        if select != 0:\n",
    "            swap_i = np.random.randint(0,4,1)\n",
    "            swap_j = np.random.randint(0,4,1)\n",
    "        else:\n",
    "            swap_i = np.random.randint(4,7,1)\n",
    "            swap_j = np.random.randint(4,7,1)\n",
    "\n",
    "        x[swap_i],x[swap_j] = x[swap_j],x[swap_i]  \n",
    "\n",
    "        if i == 0:\n",
    "            X_new = x\n",
    "        else:\n",
    "            X_new = np.row_stack((X_new,x))\n",
    "    return X_new                 \n"
   ]
  },
  {
   "cell_type": "code",
   "execution_count": 361,
   "metadata": {
    "id": "BVnYp-fuOk9M"
   },
   "outputs": [],
   "source": [
    "def Search_Sequence(pop_size,max_iter,n):\n",
    "    X = Random_Re_Intialization(pop_size)\n",
    "    #print(X)\n",
    "    Y = eval(X,n)\n",
    "    iter = -1\n",
    "    original_pop_size = pop_size\n",
    "    for i in range(max_iter):\n",
    "        #pop_size = int(i*10) + original_pop_size\n",
    "        iter = i+1\n",
    "        if np.max(Y) == 0:\n",
    "            print(\"Number of iterations : \", iter)\n",
    "            print(\"Keys : \")\n",
    "            return X[Y==0][0]\n",
    "\n",
    "        U = Y - np.min(Y)\n",
    "        if np.sum(U) == 0:\n",
    "            print(\"Key not Found !!\")\n",
    "            print(\"Run Again...\")\n",
    "            break\n",
    "        P = U/np.sum(U)\n",
    "\n",
    "        old_X = X.copy()\n",
    "\n",
    "        S_RW = Random_Walk(X,P,pop_size)\n",
    "\n",
    "        S_RRI = Random_Re_Intialization(pop_size)\n",
    "\n",
    "        S_RLC = Random_Linear_Combination(X)\n",
    "\n",
    "        new_X = np.row_stack((old_X,S_RW,S_RRI,S_RLC))\n",
    "\n",
    "        new_Y = eval(new_X,n)\n",
    "\n",
    "        best_indices = (np.argsort(new_Y)[::-1])[:pop_size]\n",
    "        #print(best_indices)\n",
    "        X = new_X[best_indices]\n",
    "        #print(X)\n",
    "        Y = new_Y[best_indices]\n",
    "        print(-1*Y)\n",
    "        \n",
    "    best_index = np.argsort(Y)[::-1][0]    \n",
    "    print(\"Number of iterations : \", iter) \n",
    "    return X[best_index]"
   ]
  },
  {
   "cell_type": "code",
   "execution_count": 362,
   "metadata": {
    "colab": {
     "base_uri": "https://localhost:8080/"
    },
    "id": "hx8ozfK9hku9",
    "outputId": "7c5dec2b-3573-4a9e-a89a-ff0c11cb0217"
   },
   "outputs": [
    {
     "name": "stdout",
     "output_type": "stream",
     "text": [
      "[329 382 398 399 410 442 451 458 460 460 460 460 460 462 466 476 477 479\n",
      " 482 482 482 482 490 490 498]\n",
      "[186 262 280 288 296 301 317 329 329 329 329 329 336 336 354 368 368 372\n",
      " 375 382 382 382 390 395 398]\n",
      "[124 142 164 186 186 186 186 186 222 234 236 238 244 252 253 259 262 262\n",
      " 262 262 270 271 271 271 274]\n",
      "[102 124 124 124 124 124 132 138 142 142 142 142 142 155 164 164 164 164\n",
      " 164 164 177 186 186 186 186]\n",
      "[ 76  76  80  93  93 102 102 102 102 102 102 110 116 122 124 124 124 124\n",
      " 124 124 124 124 124 124 124]\n",
      "[ 76  76  76  76  76  76  76  80  80  80  82  84  84  84  88  93  93  93\n",
      "  93  93  93  93  93  93 102]\n",
      "[53 61 76 76 76 76 76 76 76 76 76 76 76 76 76 76 76 76 80 80 80 80 80 80\n",
      " 80]\n",
      "[ 0 53 53 53 61 61 61 76 76 76 76 76 76 76 76 76 76 76 76 76 76 76 76 76\n",
      " 76]\n",
      "Number of iterations :  9\n",
      "Keys : \n",
      "[ 9 15  7  8  0  0  0]\n"
     ]
    }
   ],
   "source": [
    "pop_size = 25\n",
    "max_iter = 20\n",
    "input_ = 0\n",
    "X =  Search_Sequence(pop_size,max_iter,input_)\n",
    "print(X)"
   ]
  },
  {
   "cell_type": "code",
   "execution_count": 363,
   "metadata": {},
   "outputs": [],
   "source": [
    "Input = 0\n",
    "int_keys = np.random.randint(0,32,4)\n",
    "bool_keys = np.random.randint(0,2,3)\n",
    "key = np.concatenate((int_keys,bool_keys),axis=0)\n",
    "# print(key)\n",
    "# actul = ByteSub_ShiftRow(4,Input,key[0],key[1],key[2],key[3],key[4],key[5],key[6])\n",
    "# print(actul)\n",
    "\n",
    "#One to One map\n",
    "# [12 26  6  7  1  0  1]\n",
    "# [35, 190, 70, 70, 196, 225, 24, 93, 49, 49, 66, 166, 184, 199, 4, 52]\n",
    "\n",
    "\n",
    "#Many nearer matching\n",
    "# [31  8 29 18  0  0  0]\n",
    "# [35, 190, 70, 199, 196, 24, 197, 141, 58, 49, 66, 154, 225, 26, 4, 52]\n",
    "\n",
    "# [23 28  0 31  1  0  1] always 5 keys matching\n",
    "# [173, 190, 70, 225, 196, 93, 197, 141, 49, 49, 66, 35, 225, 199, 4, 52]\n",
    "\n",
    "\n",
    "# [19 29 29 13  1  1  0]\n",
    "# [35, 190, 70, 154, 196, 194, 197, 141, 49, 49, 4, 128, 225, 198, 4, 52]"
   ]
  },
  {
   "cell_type": "code",
   "execution_count": null,
   "metadata": {},
   "outputs": [],
   "source": []
  }
 ],
 "metadata": {
  "colab": {
   "provenance": []
  },
  "kernelspec": {
   "display_name": "Python 3 (ipykernel)",
   "language": "python",
   "name": "python3"
  },
  "language_info": {
   "codemirror_mode": {
    "name": "ipython",
    "version": 3
   },
   "file_extension": ".py",
   "mimetype": "text/x-python",
   "name": "python",
   "nbconvert_exporter": "python",
   "pygments_lexer": "ipython3",
   "version": "3.10.9"
  }
 },
 "nbformat": 4,
 "nbformat_minor": 1
}
